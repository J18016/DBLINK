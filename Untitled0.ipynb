{
  "nbformat": 4,
  "nbformat_minor": 0,
  "metadata": {
    "colab": {
      "name": "Untitled0.ipynb",
      "provenance": [],
      "authorship_tag": "ABX9TyPwrofy5okpPjSIdCM2VWT7",
      "include_colab_link": true
    },
    "kernelspec": {
      "name": "python3",
      "display_name": "Python 3"
    },
    "language_info": {
      "name": "python"
    }
  },
  "cells": [
    {
      "cell_type": "markdown",
      "metadata": {
        "id": "view-in-github",
        "colab_type": "text"
      },
      "source": [
        "<a href=\"https://colab.research.google.com/github/J18016/DBLINK/blob/master/Untitled0.ipynb\" target=\"_parent\"><img src=\"https://colab.research.google.com/assets/colab-badge.svg\" alt=\"Open In Colab\"/></a>"
      ]
    },
    {
      "cell_type": "code",
      "metadata": {
        "colab": {
          "base_uri": "https://localhost:8080/"
        },
        "id": "M_gP6se4VHXy",
        "outputId": "4f79a7fb-611d-42d8-8956-afe97d34bc00"
      },
      "source": [
        "!pip install icrawler"
      ],
      "execution_count": 2,
      "outputs": [
        {
          "output_type": "stream",
          "name": "stdout",
          "text": [
            "Requirement already satisfied: icrawler in /usr/local/lib/python3.7/dist-packages (0.6.6)\n",
            "Requirement already satisfied: Pillow in /usr/local/lib/python3.7/dist-packages (from icrawler) (7.1.2)\n",
            "Requirement already satisfied: requests>=2.9.1 in /usr/local/lib/python3.7/dist-packages (from icrawler) (2.23.0)\n",
            "Requirement already satisfied: lxml in /usr/local/lib/python3.7/dist-packages (from icrawler) (4.2.6)\n",
            "Requirement already satisfied: six>=1.10.0 in /usr/local/lib/python3.7/dist-packages (from icrawler) (1.15.0)\n",
            "Requirement already satisfied: beautifulsoup4>=4.4.1 in /usr/local/lib/python3.7/dist-packages (from icrawler) (4.6.3)\n",
            "Requirement already satisfied: certifi>=2017.4.17 in /usr/local/lib/python3.7/dist-packages (from requests>=2.9.1->icrawler) (2021.5.30)\n",
            "Requirement already satisfied: chardet<4,>=3.0.2 in /usr/local/lib/python3.7/dist-packages (from requests>=2.9.1->icrawler) (3.0.4)\n",
            "Requirement already satisfied: urllib3!=1.25.0,!=1.25.1,<1.26,>=1.21.1 in /usr/local/lib/python3.7/dist-packages (from requests>=2.9.1->icrawler) (1.24.3)\n",
            "Requirement already satisfied: idna<3,>=2.5 in /usr/local/lib/python3.7/dist-packages (from requests>=2.9.1->icrawler) (2.10)\n"
          ]
        }
      ]
    },
    {
      "cell_type": "code",
      "metadata": {
        "colab": {
          "base_uri": "https://localhost:8080/"
        },
        "id": "U7JWygb6x7UL",
        "outputId": "09df0933-bc5a-48bd-8890-ca3f9428df2f"
      },
      "source": [
        "from google.colab import drive\n",
        "drive.mount('/content/gdrive')"
      ],
      "execution_count": 3,
      "outputs": [
        {
          "output_type": "stream",
          "name": "stdout",
          "text": [
            "Mounted at /content/gdrive\n"
          ]
        }
      ]
    },
    {
      "cell_type": "code",
      "metadata": {
        "colab": {
          "base_uri": "https://localhost:8080/"
        },
        "id": "9vg1x3iWgAPb",
        "outputId": "3520bf15-82b3-4baa-d54c-99f643511ed0"
      },
      "source": [
        "from icrawler.builtin import BingImageCrawler\n",
        "\n",
        "crawler = BingImageCrawler(storage={\"root_dir\": './images'})\n",
        "crawler.crawl(keyword='腕を組む', max_num=300)"
      ],
      "execution_count": 4,
      "outputs": [
        {
          "output_type": "stream",
          "name": "stderr",
          "text": [
            "2021-10-25 04:50:58,710 - INFO - icrawler.crawler - start crawling...\n",
            "2021-10-25 04:50:58,712 - INFO - icrawler.crawler - starting 1 feeder threads...\n",
            "2021-10-25 04:50:58,718 - INFO - icrawler.crawler - starting 1 parser threads...\n",
            "2021-10-25 04:50:58,722 - INFO - icrawler.crawler - starting 1 downloader threads...\n",
            "2021-10-25 04:50:59,111 - INFO - parser - parsing result page https://www.bing.com/images/async?q=腕を組む&first=0\n",
            "2021-10-25 04:51:00,929 - INFO - downloader - image #1\thttp://earth.publicdomainq.net/201704/02o/publicdomainq-0007596yvjwmt.jpg\n",
            "2021-10-25 04:51:01,995 - INFO - downloader - image #2\thttps://cdn.amanaimages.com/preview640/07900004172.jpg\n",
            "2021-10-25 04:51:02,605 - INFO - downloader - image #3\thttp://cdn.amanaimages.com/preview640/11004033229.jpg\n",
            "2021-10-25 04:51:03,487 - INFO - downloader - image #4\thttps://www.pakutaso.com/assets_c/2015/05/N934_udegumishitekatawoorosubiz-thumb-1000xauto-14559.jpg\n",
            "2021-10-25 04:51:03,952 - INFO - downloader - image #5\thttp://cdn.amanaimages.com/preview640/11004032480.jpg\n",
            "2021-10-25 04:51:04,815 - INFO - downloader - image #6\thttps://www.pakutaso.com/shared/img/thumb/suzuki0I9A6739_1.jpg\n",
            "2021-10-25 04:51:05,140 - INFO - downloader - image #7\thttps://t.pimg.jp/001/049/623/1/1049623.jpg\n",
            "2021-10-25 04:51:05,249 - INFO - downloader - image #8\thttps://d1f5hsy4d47upe.cloudfront.net/55/55003dd5dbe4e46514ab93e0397b23b1_w.jpg\n",
            "2021-10-25 04:51:05,712 - INFO - downloader - image #9\thttps://cdn.amanaimages.com/preview640/11004016737.jpg\n",
            "2021-10-25 04:51:06,549 - INFO - downloader - image #10\thttps://www.photolibrary.jp/mhd4/img204/450-2011051700495784157.jpg\n",
            "2021-10-25 04:51:06,734 - INFO - downloader - image #11\thttps://t.pimg.jp/002/498/246/1/2498246.jpg\n",
            "2021-10-25 04:51:07,347 - INFO - downloader - image #12\thttps://cdn.amanaimages.com/preview640/11004099489.jpg\n",
            "2021-10-25 04:51:07,749 - INFO - downloader - image #13\thttps://www.photolibrary.jp/mhd4/img212/450-20110706110315103483.jpg\n",
            "2021-10-25 04:51:08,094 - INFO - downloader - image #14\thttps://www.photolibrary.jp/mhd6/img342/450-2014051223150526449.jpg\n",
            "2021-10-25 04:51:08,128 - INFO - downloader - image #15\thttps://t.pimg.jp/002/471/268/1/2471268.jpg\n",
            "2021-10-25 04:51:08,588 - INFO - downloader - image #16\thttps://cdn.amanaimages.com/preview640/10161014703.jpg\n",
            "2021-10-25 04:51:10,070 - INFO - downloader - image #17\thttps://www.pakutaso.com/shared/img/thumb/N825_udewokumusarari-man.jpg\n",
            "2021-10-25 04:51:11,220 - INFO - downloader - image #18\thttps://d1f5hsy4d47upe.cloudfront.net/f1/f14b01b96e0b606580d868a3cb8118c5_w.jpg\n",
            "2021-10-25 04:51:11,683 - INFO - downloader - image #19\thttps://cdn.amanaimages.com/preview640/11004022220.jpg\n",
            "2021-10-25 04:51:13,239 - INFO - downloader - image #20\thttps://publicdomainq.net/images/201704/23s/publicdomainq-0008352vyp.jpg\n",
            "2021-10-25 04:51:13,710 - INFO - downloader - image #21\thttps://cdn.amanaimages.com/preview640/11004086659.jpg\n",
            "2021-10-25 04:51:14,646 - INFO - downloader - image #22\thttps://www.photolibrary.jp/mhd6/img198/450-20110412193003142174.jpg\n",
            "2021-10-25 04:51:15,071 - INFO - downloader - image #23\thttps://publicdomainq.net/images/201811/14s/publicdomainq-0028344rxc.jpg\n",
            "2021-10-25 04:51:15,922 - INFO - downloader - image #24\thttps://www.pakutaso.com/shared/img/thumb/N811_udewokumudansei_TP_V4.jpg\n",
            "2021-10-25 04:51:16,839 - INFO - downloader - image #25\thttps://life--change.s3.ap-northeast-1.amazonaws.com/elements/article801/dda9bbd7ca54aa160510b21dc4a64dc4_s.jpg\n",
            "2021-10-25 04:51:17,072 - INFO - parser - parsing result page https://www.bing.com/images/async?q=腕を組む&first=20\n",
            "2021-10-25 04:51:18,281 - INFO - downloader - image #26\thttps://feely.jp/wp-content/uploads/2019/06/iStock-843530224.jpg\n",
            "2021-10-25 04:51:18,403 - INFO - downloader - image #27\thttps://cdn0.mynvwm.com/wp-content/uploads/2014/01/adult-arms-crossed-bow-tie-1702.jpg\n",
            "2021-10-25 04:51:18,589 - INFO - downloader - image #28\thttps://life--change.s3.ap-northeast-1.amazonaws.com/elements/article801/9c954fa396e76737d1e0fc6a0060d83d_s.jpg\n",
            "2021-10-25 04:51:19,312 - INFO - downloader - image #29\thttps://mousouadvisor.com/wp-content/uploads/2020/02/udekumi.jpg\n",
            "2021-10-25 04:51:20,198 - INFO - downloader - image #30\thttp://uranailady.com/images/07_241.jpg\n",
            "2021-10-25 04:51:20,619 - INFO - downloader - image #31\thttps://publicdomainq.net/images/201901/21s/publicdomainq-0030618sjr.jpg\n",
            "2021-10-25 04:51:21,529 - INFO - downloader - image #32\thttp://cdn.amanaimages.com/cen3tzG4fTr7Gtw1PoeRer/20009005791.jpg\n",
            "2021-10-25 04:51:22,359 - INFO - downloader - image #33\thttps://s3-ap-northeast-1.amazonaws.com/static.amanaimages.com/imgroom/rf_preview640/11004/11004021489.jpg\n",
            "2021-10-25 04:51:22,800 - INFO - downloader - image #34\thttp://cdn.amanaimages.com/preview640/11004009378.jpg\n",
            "2021-10-25 04:51:23,519 - INFO - downloader - image #35\thttps://www.pakutaso.com/assets_c/2015/05/N811_udewokumu-thumb-1000xauto-14868.jpg\n",
            "2021-10-25 04:51:24,838 - INFO - downloader - image #36\thttp://www.photolibrary.jp/mhd6/img150/450-20100323170257116.jpg\n",
            "2021-10-25 04:51:25,762 - INFO - downloader - image #37\thttps://img.fumumu.net/wp-content/uploads/2019/08/GettyImages-692576676.jpg\n",
            "2021-10-25 04:51:26,251 - INFO - downloader - image #38\thttp://cdn.amanaimages.com/preview640/11002053809.jpg\n",
            "2021-10-25 04:51:26,448 - INFO - downloader - image #39\thttp://cdn.amanaimages.com/preview640/29968000167.jpg\n",
            "2021-10-25 04:51:26,530 - INFO - parser - parsing result page https://www.bing.com/images/async?q=腕を組む&first=40\n",
            "2021-10-25 04:51:26,869 - INFO - downloader - image #40\thttps://publicdomainq.net/images/201708/17s/publicdomainq-0012317zsj.jpg\n",
            "2021-10-25 04:51:27,184 - INFO - downloader - image #41\thttp://cdn.amanaimages.com/preview640/07800036181.jpg\n",
            "2021-10-25 04:51:27,656 - INFO - downloader - image #42\thttps://t3.ftcdn.net/jpg/00/32/22/28/500_F_32222849_qGG3kkfGaJUF05YUNzqIFUY57iQtdTtK.jpg\n",
            "2021-10-25 04:51:28,078 - INFO - downloader - image #43\thttps://publicdomainq.net/images/201902/18s/publicdomainq-0031553qpi.jpg\n",
            "2021-10-25 04:51:28,496 - INFO - downloader - image #44\thttps://mousouadvisor.com/wp-content/uploads/2020/02/udekumi02.jpg\n",
            "2021-10-25 04:51:28,976 - INFO - downloader - image #45\thttp://cdn.amanaimages.com/preview640/29922000096.jpg\n",
            "2021-10-25 04:51:29,854 - INFO - downloader - image #46\thttps://s3-ap-northeast-1.amazonaws.com/static.amanaimages.com/imgroom/rf_preview640/10250/10250000615.jpg\n",
            "2021-10-25 04:51:30,442 - INFO - downloader - image #47\thttp://cdn.amanaimages.com/preview640/11004081421.jpg\n",
            "2021-10-25 04:51:31,151 - INFO - downloader - image #48\thttps://reiwa-hack.jp/wp-content/uploads/2019/10/psycology-behavior_05.jpg\n",
            "2021-10-25 04:51:32,145 - INFO - downloader - image #49\thttps://static.amanaimages.com/imgroom/rf_preview640/11004/11004032908.jpg\n",
            "2021-10-25 04:51:32,510 - INFO - downloader - image #50\thttps://t.pimg.jp/002/471/194/1/2471194.jpg\n",
            "2021-10-25 04:51:32,734 - INFO - parser - parsing result page https://www.bing.com/images/async?q=腕を組む&first=60\n",
            "2021-10-25 04:51:33,135 - INFO - downloader - image #51\thttp://cache5.amanaimages.com/preview640/11006003821.jpg\n",
            "2021-10-25 04:51:34,020 - INFO - downloader - image #52\thttps://cdn.amanaimages.com/preview640/11004032926.jpg\n",
            "2021-10-25 04:51:34,440 - INFO - downloader - image #53\thttps://publicdomainq.net/images/201812/24s/publicdomainq-0029736qib.jpg\n",
            "2021-10-25 04:51:35,465 - INFO - downloader - image #54\thttps://static.amanaimages.com/imgroom/rf_preview640/11004/11004101132.jpg\n",
            "2021-10-25 04:51:35,501 - INFO - downloader - image #55\thttps://t.pimg.jp/002/572/714/1/2572714.jpg\n",
            "2021-10-25 04:51:35,685 - INFO - downloader - image #56\thttps://t.pimg.jp/006/999/933/1/6999933.jpg\n",
            "2021-10-25 04:51:36,131 - INFO - downloader - image #57\thttps://cdn.amanaimages.com/preview640/11004086907.jpg\n",
            "2021-10-25 04:51:36,425 - INFO - downloader - image #58\thttps://cdn.amanaimages.com/preview640/11004030387.jpg\n",
            "2021-10-25 04:51:38,135 - INFO - downloader - image #59\thttps://www.pakutaso.com/shared/img/thumb/yotakasanFTHG0189.jpg\n",
            "2021-10-25 04:51:38,363 - INFO - downloader - image #60\thttps://t.pimg.jp/016/435/651/1/16435651.jpg\n",
            "2021-10-25 04:51:38,788 - INFO - downloader - image #61\thttps://publicdomainq.net/images/201903/16s/publicdomainq-0032468yar.jpg\n",
            "2021-10-25 04:51:39,017 - INFO - parser - parsing result page https://www.bing.com/images/async?q=腕を組む&first=80\n",
            "2021-10-25 04:51:39,551 - INFO - downloader - image #62\thttps://s3-ap-northeast-1.amazonaws.com/img.photo-ac/95/951d4c837c2ccf59e39d9391fe5346ff_w.jpg\n",
            "2021-10-25 04:51:39,655 - INFO - downloader - image #63\thttps://cpw.imagenavi.jp/preview/115/11513731_PW36.jpg\n",
            "2021-10-25 04:51:39,899 - INFO - downloader - image #64\thttps://t.pimg.jp/050/826/193/1/50826193.jpg\n",
            "2021-10-25 04:51:40,119 - INFO - downloader - image #65\thttps://t.pimg.jp/001/049/626/1/1049626.jpg\n",
            "2021-10-25 04:51:40,896 - INFO - downloader - image #66\thttp://cdn.amanaimages.com/cen3tzG4fTr7Gtw1PoeRer/00521012524.jpg\n",
            "2021-10-25 04:51:41,999 - INFO - downloader - image #67\thttps://happymail.co.jp/happylife/wp-content/uploads/2020/05/image3-9.jpg\n",
            "2021-10-25 04:51:43,030 - INFO - downloader - image #68\thttps://preview.aflo.com/DqSF9rQQNpnE/aflo_80359237.jpg\n",
            "2021-10-25 04:51:43,214 - INFO - downloader - image #69\thttps://t.pimg.jp/002/471/195/1/2471195.jpg\n",
            "2021-10-25 04:51:44,152 - INFO - downloader - image #70\thttps://www.photolibrary.jp/mhd4/img516/450-20170310195551298562.jpg\n",
            "2021-10-25 04:51:44,542 - INFO - downloader - image #71\thttps://www.photolibrary.jp/mhd8/img528/450-20170603144053.jpg\n",
            "2021-10-25 04:51:45,176 - INFO - downloader - image #72\thttp://cache5.amanaimages.com/preview640/11004091924.jpg\n",
            "2021-10-25 04:51:45,869 - INFO - downloader - image #73\thttp://www.photolibrary.jp/mhd3/img99/450-200901131917205321.jpg\n",
            "2021-10-25 04:51:46,773 - INFO - downloader - image #74\thttps://s3-ap-northeast-1.amazonaws.com/static.amanaimages.com/imgroom/rf_preview640/10161/10161014666.jpg\n",
            "2021-10-25 04:51:46,996 - INFO - parser - parsing result page https://www.bing.com/images/async?q=腕を組む&first=100\n",
            "2021-10-25 04:51:47,003 - INFO - downloader - image #75\thttps://t.pimg.jp/002/572/789/1/2572789.jpg\n",
            "2021-10-25 04:51:47,186 - INFO - downloader - image #76\thttps://t.pimg.jp/002/571/826/1/2571826.jpg\n",
            "2021-10-25 04:51:48,308 - INFO - downloader - image #77\thttps://cdn.amanaimages.com/preview640/33000004702.jpg\n",
            "2021-10-25 04:51:49,232 - INFO - downloader - image #78\thttps://d3cmdai71kklhc.cloudfront.net/post_watermark/marketplace/128147/mp_20200221-164817221_nqss8.jpg\n",
            "2021-10-25 04:51:50,369 - INFO - downloader - image #79\thttps://publicdomainq.net/images/202003/13s/publicdomainq-0043585fgm.jpg\n",
            "2021-10-25 04:51:50,519 - INFO - downloader - image #80\thttps://publicdomainq.net/images/201707/26s/publicdomainq-0011546zcj.jpg\n",
            "2021-10-25 04:51:50,966 - INFO - downloader - image #81\thttps://cdn.amanaimages.com/preview640/11019005894.jpg\n",
            "2021-10-25 04:51:51,217 - INFO - downloader - image #82\thttps://t.pimg.jp/002/498/244/1/2498244.jpg\n",
            "2021-10-25 04:51:51,798 - INFO - downloader - image #83\thttp://cdn.amanaimages.com/preview640/11004017011.jpg\n",
            "2021-10-25 04:51:52,883 - INFO - downloader - image #84\thttps://www.photolibrary.jp/mhd6/img558/450-20171223171105297715.jpg\n",
            "2021-10-25 04:51:53,187 - INFO - downloader - image #85\thttp://cdn.amanaimages.com/cen3tzG4fTr7Gtw1PoeRer/24014000015.jpg\n",
            "2021-10-25 04:51:54,034 - INFO - parser - parsing result page https://www.bing.com/images/async?q=腕を組む&first=120\n",
            "2021-10-25 04:51:54,545 - INFO - downloader - image #86\thttps://www.verygood.la/wp-content/uploads/2015/07/7915627712e3411feebe82da70448c05_m.jpg\n",
            "2021-10-25 04:51:54,813 - INFO - downloader - image #87\thttps://t.pimg.jp/001/925/112/1/1925112.jpg\n",
            "2021-10-25 04:51:55,214 - INFO - downloader - image #88\thttps://t4.ftcdn.net/jpg/00/16/31/61/500_F_16316178_yfhRKZWmvSxEdiUY5XpUxtbBmMTs6qAv.jpg\n",
            "2021-10-25 04:51:55,435 - INFO - downloader - image #89\thttps://t3.ftcdn.net/jpg/00/31/14/86/500_F_31148669_c0J1BPe5tXUzerhJSdljLGhBNXeYwzuP.jpg\n",
            "2021-10-25 04:51:55,971 - INFO - downloader - image #90\thttp://ofee.tank.jp/wp-content/uploads/2015/04/fold-arms-header2-300x158.jpg\n",
            "2021-10-25 04:51:56,114 - INFO - downloader - image #91\thttp://ofee.tank.jp/wp-content/uploads/2015/04/fold-arms-header1-300x158.jpg\n",
            "2021-10-25 04:51:57,244 - INFO - downloader - image #92\thttps://static.amanaimages.com/imgroom/rf_preview640/11038/11038001903.jpg\n",
            "2021-10-25 04:51:57,582 - INFO - downloader - image #93\thttps://t.pimg.jp/037/784/180/1/37784180.jpg\n",
            "2021-10-25 04:51:57,816 - INFO - downloader - image #94\thttps://t.pimg.jp/002/430/224/1/2430224.jpg\n",
            "2021-10-25 04:51:58,711 - INFO - downloader - image #95\thttps://cdn.amanaimages.com/preview640/29922000095.jpg\n",
            "2021-10-25 04:51:58,906 - INFO - downloader - image #96\thttps://t.pimg.jp/037/779/764/1/37779764.jpg\n",
            "2021-10-25 04:51:58,949 - INFO - parser - parsing result page https://www.bing.com/images/async?q=腕を組む&first=140\n",
            "2021-10-25 04:51:59,093 - INFO - downloader - image #97\thttps://t.pimg.jp/022/214/339/1/22214339.jpg\n",
            "2021-10-25 04:52:00,094 - INFO - downloader - image #98\thttps://cdn.livedoor.jp/kstyle/9941072f2f7a3060cbe5ceb23540736c.jpg\n",
            "2021-10-25 04:52:00,820 - INFO - downloader - image #99\thttp://busitry-photo.info/wp-content/uploads/m012-106-451x300.jpg\n",
            "2021-10-25 04:52:01,678 - INFO - downloader - image #100\thttps://publicdomainq.net/images/202009/30s/publicdomainq-0049161smg.jpg\n",
            "2021-10-25 04:52:02,445 - INFO - downloader - image #101\thttp://www.1242.com/lf/asset/uploads/2016/05/Fotolia_104989943_Subscription_Monthly_M.jpg\n",
            "2021-10-25 04:52:03,295 - INFO - downloader - image #102\thttps://photo.pocket-free.net/wp-content/uploads/sites/7/2019/07/IMG_20190712003_thum-768x513.jpg\n",
            "2021-10-25 04:52:04,232 - INFO - downloader - image #103\thttps://www.photolibrary.jp/mhd4/img516/450-20170310195614298562.jpg\n",
            "2021-10-25 04:52:04,654 - INFO - downloader - image #104\thttps://publicdomainq.net/images/201910/26s/publicdomainq-0039584zsj.jpg\n",
            "2021-10-25 04:52:05,309 - INFO - downloader - image #105\thttp://www.photolibrary.jp/mhd1/img225/450-20111025172926153443.jpg\n",
            "2021-10-25 04:52:05,343 - INFO - downloader - image #106\thttps://t.pimg.jp/002/471/178/1/2471178.jpg\n",
            "2021-10-25 04:52:06,626 - INFO - downloader - image #107\thttps://cdn.amanaimages.com/cen3tzG4fTr7Gtw1PoeRer/22600001194.jpg\n",
            "2021-10-25 04:52:07,627 - INFO - downloader - image #108\thttps://cache5.amanaimages.com/preview640/07800016745.jpg\n",
            "2021-10-25 04:52:07,863 - INFO - downloader - image #109\thttps://t.pimg.jp/005/199/865/1/5199865.jpg\n",
            "2021-10-25 04:52:07,874 - INFO - parser - parsing result page https://www.bing.com/images/async?q=腕を組む&first=160\n",
            "2021-10-25 04:52:08,230 - INFO - downloader - image #110\thttps://s3-ap-northeast-1.amazonaws.com/static.amanaimages.com/imgroom/rf_preview640/11002/11002053729.jpg\n",
            "2021-10-25 04:52:09,423 - INFO - downloader - image #111\thttps://asakusa-omotenashi.com/common/upload_data/asakusa-omotenashicom/image/13着物レンタル.jpg\n",
            "2021-10-25 04:52:09,458 - INFO - downloader - image #112\thttps://t.pimg.jp/002/471/182/1/2471182.jpg\n",
            "2021-10-25 04:52:10,588 - INFO - downloader - image #113\thttps://illustfield.net/wp-content/uploads/2018/05/36.jpg\n",
            "2021-10-25 04:52:11,866 - INFO - downloader - image #114\thttps://i0.wp.com/sinrigaku-lovers.com/wp-content/uploads/2017/08/udek-umi-1.jpg\n",
            "2021-10-25 04:52:12,845 - INFO - downloader - image #115\thttps://www.photolibrary.jp/mhd1/img169/450-20100831015412104027.jpg\n",
            "2021-10-25 04:52:13,054 - INFO - downloader - image #116\thttps://static.amanaimages.com/imgroom/rf_preview640/28174/28174006335.jpg\n",
            "2021-10-25 04:52:13,061 - INFO - feeder - thread feeder-001 exit\n",
            "2021-10-25 04:52:13,283 - INFO - parser - parsing result page https://www.bing.com/images/async?q=腕を組む&first=180\n",
            "2021-10-25 04:52:14,232 - INFO - downloader - image #117\thttps://cache5.amanaimages.com/preview640/11004094011.jpg\n",
            "2021-10-25 04:52:14,855 - INFO - downloader - image #118\thttp://cdn.amanaimages.com/preview640/11004009054.jpg\n",
            "2021-10-25 04:52:15,992 - INFO - downloader - image #119\thttps://static.amanaimages.com/imgroom/rf_preview640/07800/07800066579.jpg\n",
            "2021-10-25 04:52:16,874 - INFO - downloader - image #120\thttps://cdn.amanaimages.com/preview640/11023004150.jpg\n",
            "2021-10-25 04:52:17,621 - INFO - downloader - image #121\thttp://cdn.amanaimages.com/cen3tzG4fTr7Gtw1PoeRer/22600000755.jpg\n",
            "2021-10-25 04:52:17,769 - ERROR - downloader - Exception caught when downloading file https://iwiz-spo.c.yimg.jp/c/sports/text/images/2019/1202/201912020042-spnavido_2019120201134_view.jpg, error: HTTPSConnectionPool(host='iwiz-spo.c.yimg.jp', port=443): Max retries exceeded with url: /c/sports/text/images/2019/1202/201912020042-spnavido_2019120201134_view.jpg (Caused by NewConnectionError('<urllib3.connection.VerifiedHTTPSConnection object at 0x7fb875a08510>: Failed to establish a new connection: [Errno -2] Name or service not known')), remaining retry times: 2\n",
            "2021-10-25 04:52:17,776 - ERROR - downloader - Exception caught when downloading file https://iwiz-spo.c.yimg.jp/c/sports/text/images/2019/1202/201912020042-spnavido_2019120201134_view.jpg, error: HTTPSConnectionPool(host='iwiz-spo.c.yimg.jp', port=443): Max retries exceeded with url: /c/sports/text/images/2019/1202/201912020042-spnavido_2019120201134_view.jpg (Caused by NewConnectionError('<urllib3.connection.VerifiedHTTPSConnection object at 0x7fb87593c450>: Failed to establish a new connection: [Errno -2] Name or service not known')), remaining retry times: 1\n",
            "2021-10-25 04:52:17,784 - ERROR - downloader - Exception caught when downloading file https://iwiz-spo.c.yimg.jp/c/sports/text/images/2019/1202/201912020042-spnavido_2019120201134_view.jpg, error: HTTPSConnectionPool(host='iwiz-spo.c.yimg.jp', port=443): Max retries exceeded with url: /c/sports/text/images/2019/1202/201912020042-spnavido_2019120201134_view.jpg (Caused by NewConnectionError('<urllib3.connection.VerifiedHTTPSConnection object at 0x7fb875b65b50>: Failed to establish a new connection: [Errno -2] Name or service not known')), remaining retry times: 0\n",
            "2021-10-25 04:52:18,254 - INFO - downloader - image #122\thttps://cdn.amanaimages.com/preview640/11004018476.jpg\n",
            "2021-10-25 04:52:18,730 - INFO - downloader - image #123\thttp://cdn.amanaimages.com/preview640/11000017426.jpg\n",
            "2021-10-25 04:52:19,006 - INFO - downloader - image #124\thttps://t.pimg.jp/040/268/339/1/40268339.jpg\n",
            "2021-10-25 04:52:20,315 - INFO - downloader - image #125\thttps://cache5.amanaimages.com/cen3tzG4fTr7Gtw1PoeRer/02129010733.jpg\n",
            "2021-10-25 04:52:21,261 - INFO - parser - parsing result page https://www.bing.com/images/async?q=腕を組む&first=200\n",
            "2021-10-25 04:52:21,273 - INFO - downloader - image #126\thttps://www.photolibrary.jp/mhd2/img178/450-20101110202913103531.jpg\n",
            "2021-10-25 04:52:21,380 - INFO - downloader - image #127\thttp://cpw.imagenavi.jp/preview/020/02008008_PW36.jpg\n",
            "2021-10-25 04:52:21,564 - INFO - downloader - image #128\thttps://t.pimg.jp/006/998/890/1/6998890.jpg\n",
            "2021-10-25 04:52:22,576 - INFO - downloader - image #129\thttps://static.amanaimages.com/imgroom/rf_preview640/11004/11004096286.jpg\n",
            "2021-10-25 04:52:22,759 - INFO - downloader - image #130\thttps://t.pimg.jp/016/711/864/1/16711864.jpg\n",
            "2021-10-25 04:52:23,378 - INFO - downloader - image #131\thttps://cdn.amanaimages.com/preview640/10132002250.jpg\n",
            "2021-10-25 04:52:23,476 - ERROR - downloader - Exception caught when downloading file http://cdn.amanaimages.com/preview640/11004022207.jpg, error: ('Connection aborted.', RemoteDisconnected('Remote end closed connection without response')), remaining retry times: 2\n",
            "2021-10-25 04:52:24,122 - INFO - downloader - image #132\thttp://cdn.amanaimages.com/preview640/11004022207.jpg\n",
            "2021-10-25 04:52:24,799 - INFO - downloader - image #133\thttps://www.photolibrary.jp/mhd6/img558/450-20171222152642.jpg\n",
            "2021-10-25 04:52:25,696 - INFO - downloader - image #134\thttps://cache5.amanaimages.com/preview640/11004018475.jpg\n",
            "2021-10-25 04:52:26,505 - INFO - downloader - image #135\thttps://static.amanaimages.com/imgroom/rf_preview640/11004/11004015640.jpg\n",
            "2021-10-25 04:52:26,783 - INFO - downloader - image #136\thttp://t.pimg.jp/003/833/082/1/3833082.jpg\n",
            "2021-10-25 04:52:27,370 - INFO - downloader - image #137\thttps://cdn.amanaimages.com/preview640/11032003927.jpg\n",
            "2021-10-25 04:52:27,415 - INFO - downloader - image #138\thttps://t.pimg.jp/003/833/057/1/3833057.jpg\n",
            "2021-10-25 04:52:27,604 - INFO - parser - parsing result page https://www.bing.com/images/async?q=腕を組む&first=220\n",
            "2021-10-25 04:52:27,648 - INFO - downloader - image #139\thttps://t.pimg.jp/003/833/086/1/3833086.jpg\n",
            "2021-10-25 04:52:28,541 - INFO - downloader - image #140\thttps://feely.jp/wp-content/uploads/2018/07/iStock-860487686.jpg\n",
            "2021-10-25 04:52:29,542 - INFO - downloader - image #141\thttps://publicdomainq.net/images/201909/03s/publicdomainq-0037940uat.jpg\n",
            "2021-10-25 04:52:29,669 - ERROR - downloader - Exception caught when downloading file https://www.photolibrary.jp/mhd8/img616/450-20180727000900124508.jpg, error: ('Connection aborted.', RemoteDisconnected('Remote end closed connection without response')), remaining retry times: 2\n",
            "2021-10-25 04:52:30,526 - INFO - downloader - image #142\thttps://www.photolibrary.jp/mhd8/img616/450-20180727000900124508.jpg\n",
            "2021-10-25 04:52:31,950 - INFO - downloader - image #143\thttps://illustfield.net/wp-content/uploads/2018/03/80.jpg\n",
            "2021-10-25 04:52:32,449 - INFO - downloader - image #144\thttp://cdn.amanaimages.com/cen3tzG4fTr7Gtw1PoeRer/02441000047.jpg\n",
            "2021-10-25 04:52:32,908 - INFO - downloader - image #145\thttp://cdn.amanaimages.com/preview640/11004033232.jpg\n",
            "2021-10-25 04:52:33,826 - INFO - downloader - image #146\thttps://cdn.amanaimages.com/preview640/11004031945.jpg\n",
            "2021-10-25 04:52:34,147 - INFO - downloader - image #147\thttps://cdn.amanaimages.com/preview640/07800029042.jpg\n",
            "2021-10-25 04:52:34,334 - INFO - downloader - image #148\thttps://t.pimg.jp/003/833/077/1/3833077.jpg\n",
            "2021-10-25 04:52:35,318 - INFO - downloader - image #149\thttps://cdn.amanaimages.com/cen3tzG4fTr7Gtw1PoeRer/30021000052A.jpg\n",
            "2021-10-25 04:52:35,349 - INFO - downloader - image #150\thttps://t.pimg.jp/024/498/905/1/24498905.jpg\n",
            "2021-10-25 04:52:35,534 - INFO - downloader - image #151\thttps://t.pimg.jp/016/402/873/1/16402873.jpg\n",
            "2021-10-25 04:52:37,100 - INFO - downloader - image #152\thttps://mpreview.aflo.com/CiZPjq55MseL/afloimagemart_129296121.jpg\n",
            "2021-10-25 04:52:37,329 - INFO - downloader - image #153\thttps://t.pimg.jp/003/833/069/1/3833069.jpg\n",
            "2021-10-25 04:52:37,412 - INFO - downloader - image #154\thttps://i.ytimg.com/vi/A4RV1jKwH1Q/maxres2.jpg\n",
            "2021-10-25 04:52:37,781 - INFO - parser - parsing result page https://www.bing.com/images/async?q=腕を組む&first=240\n",
            "2021-10-25 04:52:38,393 - INFO - downloader - image #155\thttps://illustfield.net/wp-content/uploads/2016/09/d483aa68abd6f49b8d0fad5e9a1af0f9.jpg\n",
            "2021-10-25 04:52:38,639 - INFO - downloader - image #156\thttps://image.news.livedoor.com/newsimage/a/d/ad602_137_40eb0340_578266b5.jpg\n",
            "2021-10-25 04:52:39,267 - INFO - downloader - image #157\thttps://mainichigahakken.net/health/img/1801p43_06.jpg\n",
            "2021-10-25 04:52:40,220 - INFO - downloader - image #158\thttps://static.amanaimages.com/imgroom/rf_preview640/11004/11004017004.jpg\n",
            "2021-10-25 04:52:40,550 - INFO - downloader - image #159\thttp://t.pimg.jp/006/998/166/1/6998166.jpg\n",
            "2021-10-25 04:52:41,314 - INFO - downloader - image #160\thttps://d1f5hsy4d47upe.cloudfront.net/5d/5d2b68c06290571f824d58c4f51a1f04_w.jpg\n",
            "2021-10-25 04:52:41,507 - INFO - downloader - image #161\thttps://t.pimg.jp/019/156/991/1/19156991.jpg\n",
            "2021-10-25 04:52:41,721 - INFO - downloader - image #162\thttps://t.pimg.jp/003/833/073/1/3833073.jpg\n",
            "2021-10-25 04:52:41,758 - INFO - downloader - image #163\thttps://t.pimg.jp/003/833/081/1/3833081.jpg\n",
            "2021-10-25 04:52:43,030 - INFO - downloader - image #164\thttps://uratte.jp/media/posts/upload/aab0e75bb773482c9943b444ad608fb7.jpg\n",
            "2021-10-25 04:52:44,034 - INFO - downloader - image #165\thttps://d1f5hsy4d47upe.cloudfront.net/dd/dd3656b9a835b568fb54dd67aac284f9_w.jpg\n",
            "2021-10-25 04:52:44,301 - INFO - parser - parsing result page https://www.bing.com/images/async?q=腕を組む&first=260\n",
            "2021-10-25 04:52:44,987 - INFO - downloader - image #166\thttps://cdn.amanaimages.com/preview640/11004025350.jpg\n",
            "2021-10-25 04:52:45,217 - INFO - downloader - image #167\thttps://t.pimg.jp/003/833/084/1/3833084.jpg\n",
            "2021-10-25 04:52:45,700 - INFO - downloader - image #168\thttps://cdn.amanaimages.com/preview640/07800059174.jpg\n",
            "2021-10-25 04:52:46,014 - INFO - downloader - image #169\thttps://t.pimg.jp/003/833/059/1/3833059.jpg\n",
            "2021-10-25 04:52:46,336 - INFO - downloader - image #170\thttps://cdn.amanaimages.com/preview640/11004022750.jpg\n",
            "2021-10-25 04:52:47,670 - INFO - downloader - image #171\thttp://www.city.omuta.lg.jp/kouhou-web/16-10-01/images/t14_01.jpg\n",
            "2021-10-25 04:52:48,108 - INFO - downloader - image #172\thttps://cdn.amanaimages.com/preview640/11014008262.jpg\n",
            "2021-10-25 04:52:49,107 - INFO - downloader - image #173\thttps://static.amanaimages.com/imgroom/rf_preview640/11004/11004020823.jpg\n",
            "2021-10-25 04:52:49,294 - INFO - downloader - image #174\thttps://t.pimg.jp/028/859/749/1/28859749.jpg\n",
            "2021-10-25 04:52:50,088 - INFO - downloader - image #175\thttps://static.amanaimages.com/imgroom/rf_preview640/11004/11004019131.jpg\n",
            "2021-10-25 04:52:50,326 - INFO - downloader - image #176\thttps://t.pimg.jp/019/361/466/1/19361466.jpg\n",
            "2021-10-25 04:52:50,570 - INFO - parser - parsing result page https://www.bing.com/images/async?q=腕を組む&first=280\n",
            "2021-10-25 04:52:51,311 - INFO - downloader - image #177\thttps://d1f5hsy4d47upe.cloudfront.net/e1/e1cf8893e95cf56af38c9da46411791a_w.jpg\n",
            "2021-10-25 04:52:52,325 - INFO - downloader - image #178\thttps://static.amanaimages.com/imgroom/rf_preview640/11038/11038001054.jpg\n",
            "2021-10-25 04:52:52,360 - INFO - downloader - image #179\thttps://static.amanaimages.com/imgroom/cen3tzG4fTr7Gtw1PoeRer/02253/02253005644.jpg\n",
            "2021-10-25 04:52:53,715 - INFO - downloader - image #180\thttps://zexy.net/contents/lovenews/article/img/20200730_05.jpg\n",
            "2021-10-25 04:52:54,426 - INFO - downloader - image #181\thttp://busitry-photo.info/wp-content/uploads/m015-386-450x300.jpg\n",
            "2021-10-25 04:52:54,538 - INFO - downloader - image #182\thttps://cpw.imagenavi.jp/preview/149/14931388_PW36.jpg\n",
            "2021-10-25 04:52:55,535 - INFO - downloader - image #183\thttps://static.amanaimages.com/imgroom/rf_preview640/11014/11014007342.jpg\n",
            "2021-10-25 04:52:55,718 - INFO - downloader - image #184\thttps://t.pimg.jp/003/453/002/1/3453002.jpg\n",
            "2021-10-25 04:52:56,654 - INFO - downloader - image #185\thttps://cdn.amanaimages.com/preview640/11071001236.jpg\n",
            "2021-10-25 04:52:57,703 - INFO - downloader - image #186\thttps://d1f5hsy4d47upe.cloudfront.net/33/330c10973bc35bdec6f57e6460075eca_w.jpg\n",
            "2021-10-25 04:52:58,579 - INFO - downloader - image #187\thttps://cdn-ak.f.st-hatena.com/images/fotolife/t/tedukurikotoba/20180915/20180915181042.jpg\n",
            "2021-10-25 04:52:59,588 - INFO - downloader - image #188\thttps://static.amanaimages.com/imgroom/rf_preview640/10161/10161003443.jpg\n",
            "2021-10-25 04:52:59,813 - INFO - downloader - image #189\thttps://t.pimg.jp/021/450/707/1/21450707.jpg\n",
            "2021-10-25 04:53:00,351 - INFO - downloader - image #190\thttps://image.freepik.com/free-photo/vertical-image-of-smiling-blonde-business-woman-in-eyeglasses-posing-sideways-with-crossed-arms-over-white_171337-6314.jpg\n",
            "2021-10-25 04:53:00,660 - INFO - parser - no more page urls for thread parser-001 to parse\n",
            "2021-10-25 04:53:00,662 - INFO - parser - thread parser-001 exit\n",
            "2021-10-25 04:53:01,325 - INFO - downloader - image #191\thttps://static.amanaimages.com/imgroom/rf_preview640/29961/29961000007.jpg\n",
            "2021-10-25 04:53:06,328 - INFO - downloader - no more download task for thread downloader-001\n",
            "2021-10-25 04:53:06,330 - INFO - downloader - thread downloader-001 exit\n",
            "2021-10-25 04:53:06,856 - INFO - icrawler.crawler - Crawling task done!\n"
          ]
        }
      ]
    },
    {
      "cell_type": "code",
      "metadata": {
        "colab": {
          "base_uri": "https://localhost:8080/"
        },
        "id": "FUdMr9IswHsu",
        "outputId": "dae430a0-9f4f-4e45-f641-6c520d25b2c8"
      },
      "source": [
        "!zip -r /content/file.zip /content/Folder_To_Zip"
      ],
      "execution_count": 20,
      "outputs": [
        {
          "output_type": "stream",
          "name": "stdout",
          "text": [
            "\tzip warning: name not matched: /content/Folder_To_Zip\n",
            "\n",
            "zip error: Nothing to do! (try: zip -r /content/file.zip . -i /content/Folder_To_Zip)\n"
          ]
        }
      ]
    }
  ]
}